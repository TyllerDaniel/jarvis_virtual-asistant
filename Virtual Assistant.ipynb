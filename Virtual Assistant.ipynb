{
 "cells": [
  {
   "cell_type": "code",
   "execution_count": 2,
   "metadata": {},
   "outputs": [
    {
     "name": "stdout",
     "output_type": "stream",
     "text": [
      "Collecting pyttsx3\n",
      "  Using cached pyttsx3-2.90-py3-none-any.whl (39 kB)\n",
      "Collecting comtypes; platform_system == \"Windows\"\n",
      "  Using cached comtypes-1.1.8.zip (181 kB)\n",
      "Collecting pypiwin32; platform_system == \"Windows\"\n",
      "  Using cached pypiwin32-223-py3-none-any.whl (1.7 kB)\n",
      "Requirement already satisfied: pywin32; platform_system == \"Windows\" in c:\\users\\gachengoh\\anaconda3\\envs\\pythongpu\\lib\\site-packages (from pyttsx3) (223)\n",
      "Building wheels for collected packages: comtypes\n",
      "  Building wheel for comtypes (setup.py): started\n",
      "  Building wheel for comtypes (setup.py): finished with status 'done'\n",
      "  Created wheel for comtypes: filename=comtypes-1.1.8-py3-none-any.whl size=164629 sha256=d06b7ca1888b99cfb061dabd88322ad1fd2f89bd53e2a9720df2326eed2f0cbf\n",
      "  Stored in directory: c:\\users\\gachengoh\\appdata\\local\\pip\\cache\\wheels\\13\\4e\\8e\\b47d44c7aa300868367b01087fc0dc7f534d25e83ff77d9062\n",
      "Successfully built comtypes\n",
      "Installing collected packages: comtypes, pypiwin32, pyttsx3\n",
      "Successfully installed comtypes-1.1.8 pypiwin32-223 pyttsx3-2.90\n",
      "Note: you may need to restart the kernel to use updated packages.\n"
     ]
    }
   ],
   "source": [
    "pip install pyttsx3"
   ]
  },
  {
   "cell_type": "code",
   "execution_count": 2,
   "metadata": {},
   "outputs": [
    {
     "name": "stdout",
     "output_type": "stream",
     "text": [
      "Collecting speechRecognition\n",
      "  Using cached SpeechRecognition-3.8.1-py2.py3-none-any.whl (32.8 MB)\n",
      "Installing collected packages: speechRecognition\n",
      "Successfully installed speechRecognition-3.8.1\n",
      "Note: you may need to restart the kernel to use updated packages.\n"
     ]
    }
   ],
   "source": [
    "pip install speechRecognition"
   ]
  },
  {
   "cell_type": "code",
   "execution_count": 4,
   "metadata": {},
   "outputs": [
    {
     "name": "stdout",
     "output_type": "stream",
     "text": [
      "Collecting package metadata (repodata.json): ...working... done\n",
      "Solving environment: ...working... done\n",
      "\n",
      "## Package Plan ##\n",
      "\n",
      "  environment location: C:\\Users\\Gachengoh\\Anaconda3\\envs\\PythonGPU\n",
      "\n",
      "  added / updated specs:\n",
      "    - pyaudio\n",
      "\n",
      "\n",
      "The following packages will be downloaded:\n",
      "\n",
      "    package                    |            build\n",
      "    ---------------------------|-----------------\n",
      "    portaudio-19.6.0           |       hfa6e2cd_3         511 KB\n",
      "    pyaudio-0.2.11             |   py37hfa6e2cd_1          34 KB\n",
      "    ------------------------------------------------------------\n",
      "                                           Total:         545 KB\n",
      "\n",
      "The following NEW packages will be INSTALLED:\n",
      "\n",
      "  portaudio          pkgs/main/win-64::portaudio-19.6.0-hfa6e2cd_3\n",
      "  pyaudio            pkgs/main/win-64::pyaudio-0.2.11-py37hfa6e2cd_1\n",
      "\n",
      "The following packages will be UPDATED:\n",
      "\n",
      "  ca-certificates                                2020.1.1-0 --> 2020.12.8-haa95532_0\n",
      "  certifi                                 2020.4.5.1-py37_0 --> 2020.12.5-py37haa95532_0\n",
      "\n",
      "\n",
      "\n",
      "Downloading and Extracting Packages\n",
      "\n",
      "pyaudio-0.2.11       | 34 KB     |            |   0% \n",
      "pyaudio-0.2.11       | 34 KB     | ####7      |  47% \n",
      "pyaudio-0.2.11       | 34 KB     | ########## | 100% \n",
      "\n",
      "portaudio-19.6.0     | 511 KB    |            |   0% \n",
      "portaudio-19.6.0     | 511 KB    | 3          |   3% \n",
      "portaudio-19.6.0     | 511 KB    | ##8        |  28% \n",
      "portaudio-19.6.0     | 511 KB    | #####3     |  53% \n",
      "portaudio-19.6.0     | 511 KB    | #######8   |  78% \n",
      "portaudio-19.6.0     | 511 KB    | ########## | 100% \n",
      "portaudio-19.6.0     | 511 KB    | ########## | 100% \n",
      "Preparing transaction: ...working... done\n",
      "Verifying transaction: ...working... done\n",
      "Executing transaction: ...working... done\n",
      "\n",
      "Note: you may need to restart the kernel to use updated packages.\n"
     ]
    }
   ],
   "source": [
    "conda install pyaudio"
   ]
  },
  {
   "cell_type": "code",
   "execution_count": 2,
   "metadata": {},
   "outputs": [
    {
     "name": "stdout",
     "output_type": "stream",
     "text": [
      "Collecting wikipedia\n",
      "  Using cached wikipedia-1.4.0.tar.gz (27 kB)\n",
      "Collecting beautifulsoup4\n",
      "  Using cached beautifulsoup4-4.9.3-py3-none-any.whl (115 kB)\n",
      "Requirement already satisfied: requests<3.0.0,>=2.0.0 in c:\\users\\gachengoh\\anaconda3\\envs\\pythongpu\\lib\\site-packages (from wikipedia) (2.23.0)\n",
      "Collecting soupsieve>1.2; python_version >= \"3.0\"\n",
      "  Using cached soupsieve-2.1-py3-none-any.whl (32 kB)\n",
      "Requirement already satisfied: certifi>=2017.4.17 in c:\\users\\gachengoh\\anaconda3\\envs\\pythongpu\\lib\\site-packages (from requests<3.0.0,>=2.0.0->wikipedia) (2020.12.5)\n",
      "Requirement already satisfied: chardet<4,>=3.0.2 in c:\\users\\gachengoh\\anaconda3\\envs\\pythongpu\\lib\\site-packages (from requests<3.0.0,>=2.0.0->wikipedia) (3.0.4)\n",
      "Requirement already satisfied: idna<3,>=2.5 in c:\\users\\gachengoh\\anaconda3\\envs\\pythongpu\\lib\\site-packages (from requests<3.0.0,>=2.0.0->wikipedia) (2.9)\n",
      "Requirement already satisfied: urllib3!=1.25.0,!=1.25.1,<1.26,>=1.21.1 in c:\\users\\gachengoh\\anaconda3\\envs\\pythongpu\\lib\\site-packages (from requests<3.0.0,>=2.0.0->wikipedia) (1.25.8)\n",
      "Building wheels for collected packages: wikipedia\n",
      "  Building wheel for wikipedia (setup.py): started\n",
      "  Building wheel for wikipedia (setup.py): finished with status 'done'\n",
      "  Created wheel for wikipedia: filename=wikipedia-1.4.0-py3-none-any.whl size=11689 sha256=bfd5a06881f17e804b18964717f8ed49053313513c0a7f1342aa95ad1b71fcde\n",
      "  Stored in directory: c:\\users\\gachengoh\\appdata\\local\\pip\\cache\\wheels\\15\\93\\6d\\5b2c68b8a64c7a7a04947b4ed6d89fb557dcc6bc27d1d7f3ba\n",
      "Successfully built wikipedia\n",
      "Installing collected packages: soupsieve, beautifulsoup4, wikipedia\n",
      "Successfully installed beautifulsoup4-4.9.3 soupsieve-2.1 wikipedia-1.4.0\n",
      "Note: you may need to restart the kernel to use updated packages.\n"
     ]
    }
   ],
   "source": [
    "pip install wikipedia"
   ]
  },
  {
   "cell_type": "code",
   "execution_count": 35,
   "metadata": {},
   "outputs": [],
   "source": [
    "import pyttsx3\n",
    "import speech_recognition as sr\n",
    "import datetime\n",
    "import pyaudio\n",
    "import wikipedia\n",
    "import webbrowser\n",
    "import os\n",
    "import smtplib"
   ]
  },
  {
   "cell_type": "code",
   "execution_count": 36,
   "metadata": {},
   "outputs": [],
   "source": [
    "master = \"Tyller\"\n",
    "engine = pyttsx3.init('sapi5')\n",
    "voices = engine.getProperty('voices')\n",
    "engine.setProperty('voice', voices[0].id)"
   ]
  },
  {
   "cell_type": "code",
   "execution_count": 37,
   "metadata": {},
   "outputs": [],
   "source": [
    "def speak(text): # This is a speak function\n",
    "    engine.say(text)\n",
    "    engine.runAndWait()"
   ]
  },
  {
   "cell_type": "code",
   "execution_count": 38,
   "metadata": {},
   "outputs": [],
   "source": [
    "def wishMe():\n",
    "    hour = int(datetime.datetime.now().hour)\n",
    "\n",
    "    if 0 <= hour < 12:\n",
    "        speak(\"Good Morning\" + master )\n",
    "    elif 12 <= hour < 18:\n",
    "        speak(\"Good Afternoon\" + master)\n",
    "    else:\n",
    "        speak(\"Good Evening\" + master)\n",
    "\n",
    "    speak('I am Jarvis. How may I help you today?')"
   ]
  },
  {
   "cell_type": "code",
   "execution_count": 39,
   "metadata": {},
   "outputs": [],
   "source": [
    "def takecommand():\n",
    "    r = sr.Recognizer()\n",
    "    with sr.Microphone() as source:\n",
    "        print(\"Listening.... \")\n",
    "        audio = r.listen(source)\n",
    "    try:\n",
    "        print(\"Recognizing...\")\n",
    "        query = r.recognize_google(audio, language='en-US')\n",
    "        print(f'user said:{query}\\n')\n",
    "\n",
    "    except Exception as e:\n",
    "        print(\"Say that again please\")\n",
    "        query = None\n",
    "        \n",
    "    return query\n"
   ]
  },
  {
   "cell_type": "code",
   "execution_count": 89,
   "metadata": {},
   "outputs": [
    {
     "name": "stdout",
     "output_type": "stream",
     "text": [
      "Listening.... \n",
      "Recognizing...\n",
      "user said:what is the time Jarvis\n",
      "\n"
     ]
    }
   ],
   "source": [
    "speak('Initializing Jarvis....')\n",
    "wishMe()\n",
    "query = takecommand()"
   ]
  },
  {
   "cell_type": "code",
   "execution_count": 90,
   "metadata": {},
   "outputs": [],
   "source": [
    "#Task Execution.\n",
    "query= str(query)\n",
    "if 'wikipedia' in query.lower():\n",
    "    speak('Searching wikipedia...')\n",
    "    query = query.replace('wikipedia', '')\n",
    "    results = wikipedia.summary(query,sentences =2)\n",
    "    print(results)\n",
    "    speak(results)\n",
    "    \n",
    "elif 'open youtube' in query.lower():\n",
    "    chrome_path = 'C:/Program Files (x86)/Google/Chrome/Application/chrome.exe %s'\n",
    "    webbrowser.get(chrome_path).open('youtube.com')\n",
    "    \n",
    "elif 'open google' in query.lower():\n",
    "    chrome_path = 'C:/Program Files (x86)/Google/Chrome/Application/chrome.exe %s'\n",
    "    webbrowser.get(chrome_path).open('google.com')\n",
    "    \n",
    "elif 'play music' in query.lower():\n",
    "    songs_dir = 'C:/Users/Gachengoh/Music/Video Projects'\n",
    "    songs = os.listdir(songs_dir)\n",
    "    print(songs)\n",
    "    os.startfile(os.path.join(songs_dir,songs[0]))\n",
    "    \n",
    "elif 'the time' in query.lower():\n",
    "    strTime = datetime.datetime.now().strftime(\"%H:%M:%S\")\n",
    "    speak(f\"{master} the time is {strTime}\")"
   ]
  },
  {
   "cell_type": "code",
   "execution_count": null,
   "metadata": {},
   "outputs": [],
   "source": []
  },
  {
   "cell_type": "code",
   "execution_count": null,
   "metadata": {},
   "outputs": [],
   "source": []
  }
 ],
 "metadata": {
  "kernelspec": {
   "display_name": "Python 3",
   "language": "python",
   "name": "python3"
  },
  "language_info": {
   "codemirror_mode": {
    "name": "ipython",
    "version": 3
   },
   "file_extension": ".py",
   "mimetype": "text/x-python",
   "name": "python",
   "nbconvert_exporter": "python",
   "pygments_lexer": "ipython3",
   "version": "3.7.4"
  }
 },
 "nbformat": 4,
 "nbformat_minor": 4
}
